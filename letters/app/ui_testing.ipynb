{
 "cells": [
  {
   "cell_type": "markdown",
   "id": "b69eaf32",
   "metadata": {},
   "source": [
    "#### TTS, creation of audio files, and text-audio dict"
   ]
  },
  {
   "cell_type": "code",
   "execution_count": 24,
   "id": "6d78fe47",
   "metadata": {},
   "outputs": [],
   "source": [
    "from gtts import gTTS\n",
    "import os\n",
    "import sys\n",
    "sys.path.insert(0, \"../data\")\n",
    "from char_lut import CHARACTERS as chars\n",
    "\n",
    "OUT_DIR = '/usr/local/data/kvasilev/mais/MAIS-Hacks-2021/letters/data/audio'\n",
    "WAV = '.wav'\n",
    "LANGUAGE=\"en\""
   ]
  },
  {
   "cell_type": "code",
   "execution_count": 26,
   "id": "3992b045",
   "metadata": {},
   "outputs": [],
   "source": [
    "# Create output directory for audio\n",
    "if not os.path.exists(OUT_DIR):\n",
    "    os.mkdir(OUT_DIR)\n",
    "\n",
    "\n",
    "text_audio_dict = {}\n",
    "for lang in chars.keys():\n",
    "    \n",
    "    lang_dict = {}\n",
    "    for letter in chars[lang].keys():\n",
    "        \n",
    "        wav_name = f\"{lang}_{letter}{WAV}\"\n",
    "        wav_dir = f\"{OUT_DIR}/{wav_name}\"\n",
    "        \n",
    "        # generate audio\n",
    "        prompt_text = f\"Please draw letter {chars[lang][letter]}\"\n",
    "        audio = gTTS(text=prompt_text, lang=LANGUAGE, slow=False)\n",
    "        audio.save(wav_dir)\n",
    "        \n",
    "        # add to dict\n",
    "        output = {}\n",
    "#         output['text'] = chars[lang][letter]\n",
    "#         output['audio'] = wav_dir\n",
    "        \n",
    "        # add dict to lang dict\n",
    "        lang_dict[letter] = output\n",
    "        \n",
    "    # add dictionary to lang\n",
    "    text_audio_dict[lang] = lang_dict"
   ]
  },
  {
   "cell_type": "code",
   "execution_count": 28,
   "id": "e890d631",
   "metadata": {},
   "outputs": [
    {
     "data": {
      "text/plain": [
       "{'text': 'lower case a',\n",
       " 'audio': '/usr/local/data/kvasilev/mais/MAIS-Hacks-2021/letters/data/audio/ENGLISH_a.wav'}"
      ]
     },
     "execution_count": 28,
     "metadata": {},
     "output_type": "execute_result"
    }
   ],
   "source": [
    "text_audio_dict['ENGLISH']['a']"
   ]
  },
  {
   "cell_type": "code",
   "execution_count": 30,
   "id": "4c35e48c",
   "metadata": {},
   "outputs": [],
   "source": [
    "import pickle\n",
    "\n",
    "# === Save text+audio dict ===\n",
    "DICT_DIR = '/usr/local/data/kvasilev/mais/MAIS-Hacks-2021/letters/data/' # CHANGE PATH AS NEEDED\n",
    "with open(f'{DICT_DIR}text-audio.pickle', 'wb') as handle:\n",
    "    pickle.dump(text_audio_dict, handle)"
   ]
  },
  {
   "cell_type": "code",
   "execution_count": 31,
   "id": "862b9edb",
   "metadata": {},
   "outputs": [],
   "source": [
    "# TESTING: load dict from pickle\n",
    "with open(f'{DICT_DIR}text-audio.pickle', 'rb') as handle:\n",
    "    b = pickle.load(handle)"
   ]
  },
  {
   "cell_type": "code",
   "execution_count": 32,
   "id": "a43df417",
   "metadata": {},
   "outputs": [
    {
     "data": {
      "text/plain": [
       "dict_keys(['ENGLISH', 'GREEK', 'HEBREW', 'JAPANESE_KATAKANA', 'JAPANESE_HIRAGANA'])"
      ]
     },
     "execution_count": 32,
     "metadata": {},
     "output_type": "execute_result"
    }
   ],
   "source": [
    "b.keys()"
   ]
  },
  {
   "cell_type": "code",
   "execution_count": 33,
   "id": "2b31fc6b",
   "metadata": {},
   "outputs": [
    {
     "data": {
      "text/plain": [
       "{'text': 'upper case A',\n",
       " 'audio': '/usr/local/data/kvasilev/mais/MAIS-Hacks-2021/letters/data/audio/ENGLISH_A.wav'}"
      ]
     },
     "execution_count": 33,
     "metadata": {},
     "output_type": "execute_result"
    }
   ],
   "source": [
    "b['ENGLISH']['A']"
   ]
  },
  {
   "cell_type": "markdown",
   "id": "d804fedc",
   "metadata": {},
   "source": [
    "Old testing TTS code"
   ]
  },
  {
   "cell_type": "code",
   "execution_count": 2,
   "id": "19a5a1d4",
   "metadata": {},
   "outputs": [],
   "source": [
    "# generate audio prompts for letters\n",
    "from gtts import gTTS\n",
    "import os\n",
    "\n",
    "# todo: import letter-to-phonetic dict\n",
    "# audio will be in english\n",
    "\n",
    "letter_dict = {}\n",
    "\n",
    "for key, value in letter_dict.items():\n",
    "    text = \"Please draw\""
   ]
  },
  {
   "cell_type": "code",
   "execution_count": 3,
   "id": "7cf3b0bb",
   "metadata": {},
   "outputs": [
    {
     "data": {
      "text/html": [
       "\n",
       "                <audio  controls=\"controls\" >\n",
       "                    <source src=\"data:audio/x-wav;base64,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\" type=\"audio/x-wav\" />\n",
       "                    Your browser does not support the audio element.\n",
       "                </audio>\n",
       "              "
      ],
      "text/plain": [
       "<IPython.lib.display.Audio object>"
      ]
     },
     "execution_count": 3,
     "metadata": {},
     "output_type": "execute_result"
    }
   ],
   "source": [
    "import os\n",
    "import IPython.display as ipd\n",
    "ipd.Audio('/usr/local/data/kvasilev/mais/MAIS-Hacks-2021/test.wav')"
   ]
  },
  {
   "cell_type": "markdown",
   "id": "d29f768d",
   "metadata": {},
   "source": [
    "### UI\n",
    "#### TODO:\n",
    "- Slider for latent traversal\n",
    "- Button for language\n",
    "- Prompts:\n",
    "  - Audio\n",
    "  - Image prompt (example of character)\n",
    "- Button to generate next char\n",
    "- Button to show differences (GradCAM, etc.)"
   ]
  },
  {
   "cell_type": "code",
   "execution_count": 2,
   "id": "7c94f431",
   "metadata": {},
   "outputs": [],
   "source": [
    "import gradio as gr"
   ]
  },
  {
   "cell_type": "code",
   "execution_count": 3,
   "id": "96cee69e",
   "metadata": {},
   "outputs": [],
   "source": [
    "from matplotlib import image\n",
    "\n",
    "# import test image\n",
    "img_dir = '/usr/local/data/kvasilev/mais/MAIS-Hacks-2021/letters/temp/test.png'\n",
    "img = image.imread(img_dir)"
   ]
  },
  {
   "cell_type": "code",
   "execution_count": 3,
   "id": "9e885937",
   "metadata": {},
   "outputs": [
    {
     "data": {
      "text/plain": [
       "(32, 32, 3)"
      ]
     },
     "execution_count": 3,
     "metadata": {},
     "output_type": "execute_result"
    }
   ],
   "source": [
    "img.shape"
   ]
  },
  {
   "cell_type": "code",
   "execution_count": 4,
   "id": "7e6ed62d",
   "metadata": {},
   "outputs": [],
   "source": [
    "def process(usr_img, latent_shift):\n",
    "    print(type(usr_img))\n",
    "    print(latent_shift)\n",
    "    test_dict = {'class':0.99}\n",
    "    audio = '/usr/local/data/kvasilev/mais/MAIS-Hacks-2021/test.wav'\n",
    "    return test_dict, usr_img, f\"class_shift={latent_shift}\", audio"
   ]
  },
  {
   "cell_type": "code",
   "execution_count": 5,
   "id": "79365d9f",
   "metadata": {},
   "outputs": [],
   "source": [
    "def run_gradio():\n",
    "    interface = gr.Interface(fn=process, \n",
    "                             sniinputs=[\"sketchpad\", gr.inputs.Slider(0,200)],\n",
    "                             outputs=[\"label\", \"image\", \"text\",\"audio\"],\n",
    "                             live=True)\n",
    "    interface.launch()"
   ]
  },
  {
   "cell_type": "code",
   "execution_count": 6,
   "id": "df5c4361",
   "metadata": {},
   "outputs": [
    {
     "name": "stdout",
     "output_type": "stream",
     "text": [
      "Running locally at: http://127.0.0.1:7860/\n",
      "To create a public link, set `share=True` in `launch()`.\n",
      "Interface loading below...\n"
     ]
    },
    {
     "data": {
      "text/html": [
       "\n",
       "        <iframe\n",
       "            width=\"900\"\n",
       "            height=\"500\"\n",
       "            src=\"http://127.0.0.1:7860/\"\n",
       "            frameborder=\"0\"\n",
       "            allowfullscreen\n",
       "        ></iframe>\n",
       "        "
      ],
      "text/plain": [
       "<IPython.lib.display.IFrame at 0x7f8fe084cd68>"
      ]
     },
     "metadata": {},
     "output_type": "display_data"
    },
    {
     "name": "stdout",
     "output_type": "stream",
     "text": [
      "<class 'numpy.ndarray'>\n",
      "0\n",
      "<class 'numpy.ndarray'>\n",
      "0\n",
      "<class 'numpy.ndarray'>\n",
      "0\n",
      "<class 'numpy.ndarray'>\n",
      "0\n",
      "<class 'numpy.ndarray'>\n",
      "0\n",
      "<class 'numpy.ndarray'>\n",
      "0\n",
      "<class 'numpy.ndarray'>\n",
      "0\n",
      "<class 'numpy.ndarray'>\n",
      "0\n",
      "<class 'numpy.ndarray'>\n",
      "0\n",
      "<class 'numpy.ndarray'>\n",
      "0\n",
      "<class 'numpy.ndarray'>\n",
      "0\n",
      "<class 'numpy.ndarray'>\n",
      "0\n"
     ]
    }
   ],
   "source": [
    "run_gradio()"
   ]
  }
 ],
 "metadata": {
  "kernelspec": {
   "display_name": "Python 3",
   "language": "python",
   "name": "python3"
  },
  "language_info": {
   "codemirror_mode": {
    "name": "ipython",
    "version": 3
   },
   "file_extension": ".py",
   "mimetype": "text/x-python",
   "name": "python",
   "nbconvert_exporter": "python",
   "pygments_lexer": "ipython3",
   "version": "3.6.9"
  }
 },
 "nbformat": 4,
 "nbformat_minor": 5
}
