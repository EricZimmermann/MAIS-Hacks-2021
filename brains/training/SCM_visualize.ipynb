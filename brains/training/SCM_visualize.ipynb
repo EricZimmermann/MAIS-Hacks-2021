{
 "cells": [
  {
   "cell_type": "code",
   "execution_count": 1,
   "id": "f042f017-1827-4760-8314-0aec855fbe01",
   "metadata": {},
   "outputs": [],
   "source": [
    "import numpy as np\n",
    "import lz4\n",
    "import nibabel\n",
    "import matplotlib.pyplot as plt\n",
    "import torch\n",
    "import torch.nn as nn\n",
    "import pyro\n",
    "import pyro.distributions as dist\n",
    "from pyro.infer import SVI, Trace_ELBO\n",
    "from pyro.nn import pyro_method, DenseNN\n",
    "from pyro.distributions.conditional import ConditionalTransformModule\n",
    "import sys\n",
    "sys.path.insert(0,\"../data/\")\n",
    "import torch\n",
    "from loader import *"
   ]
  },
  {
   "cell_type": "code",
   "execution_count": 2,
   "id": "109db419-2233-4102-ac35-1d90ce9e8093",
   "metadata": {},
   "outputs": [],
   "source": [
    "def init_weights(m):\n",
    "    if (type(m) == nn.Conv3d or\n",
    "        type(m) == nn.ConvTranspose2d or\n",
    "        type(m) == nn.Conv2d\n",
    "       or type(m)== nn.Linear):\n",
    "        nn.init.kaiming_normal_(m.weight,mode='fan_in',a=.01,nonlinearity=\"leaky_relu\")\n",
    "        nn.init.zeros_(m.bias)"
   ]
  },
  {
   "cell_type": "code",
   "execution_count": 3,
   "id": "41781f34-547c-42a9-9eb6-0581541270c6",
   "metadata": {},
   "outputs": [],
   "source": [
    "def crop(x,x1,x2,y1,y2,z1,z2):\n",
    "    return x[x1:x2,y1:y2,z1:z2]\n",
    "def downsample(x,factorx,factory=None,factorz=None):\n",
    "    if factory==None:\n",
    "        factory=factorx\n",
    "    if factorz==None:\n",
    "        factorz=factorx\n",
    "    return x[::factorx,::factory,::factorz]\n",
    "def brain_slice(x,slice_num):\n",
    "    return x[:,:,slice_num]\n",
    "def normalize(x,norm_type=None):\n",
    "    x-=np.min(x,keepdims=True)\n",
    "    x/=(np.max(x,keepdims=True)+.00001)\n",
    "    return x\n",
    "    \n",
    "def load_one_brain(path):\n",
    "    img=nibabel.load(path)\n",
    "    img=img.get_fdata()\n",
    "    \n",
    "    print(img.shape)\n",
    "    img=crop(img,50,178,50,178,12,140)\n",
    "    print(img.shape)\n",
    "    return img\n"
   ]
  },
  {
   "cell_type": "code",
   "execution_count": 4,
   "id": "618c2512-feb7-410b-b8d2-a8ba0671849a",
   "metadata": {},
   "outputs": [],
   "source": [
    "def view_slice(volume,slice_num):\n",
    "    plt.imshow(volume[:,:,slice_num],cmap=\"Greys\")"
   ]
  },
  {
   "cell_type": "code",
   "execution_count": 5,
   "id": "21ccfa76-eda6-4aa4-82c5-95f54ffbbeea",
   "metadata": {},
   "outputs": [
    {
     "name": "stdout",
     "output_type": "stream",
     "text": [
      "(240, 240, 155)\n",
      "(128, 128, 128)\n"
     ]
    }
   ],
   "source": [
    "basic_brain=load_one_brain(\"/usr/local/faststorage/BraTS19_Data/Training/Data/BraTS19_2013_3_1/BraTS19_2013_3_1_flair.nii.gz\")\n"
   ]
  },
  {
   "cell_type": "code",
   "execution_count": 6,
   "id": "14615c8a-2387-4687-8c52-2ef3ff5bc983",
   "metadata": {},
   "outputs": [
    {
     "data": {
      "image/png": "[encoded data removed]",
      "text/plain": [
       "<Figure size 432x288 with 1 Axes>"
      ]
     },
     "metadata": {
      "needs_background": "light"
     },
     "output_type": "display_data"
    }
   ],
   "source": [
    "view_slice(downsample(basic_brain,2),32)"
   ]
  },
  {
   "cell_type": "code",
   "execution_count": 7,
   "id": "91350b36-2a7c-4398-bc9b-4e0ae4ff8638",
   "metadata": {},
   "outputs": [],
   "source": [
    "class Encoder(nn.Module):\n",
    "    def __init__(self, z_dim=64,k=4):\n",
    "        super().__init__()\n",
    "        self.conv1=nn.Conv2d(1, k, kernel_size=3, stride=1)\n",
    "        self.conv2=nn.Conv2d(k, 2*k, kernel_size=3, stride=2,padding=1)\n",
    "        self.conv3=nn.Conv2d(2*k, 4*k, kernel_size=3, stride=2,padding=1)\n",
    "        self.conv4=nn.Conv2d(4*k, 6*k, kernel_size=3, stride=2,padding=1)\n",
    "        #self.fc1=nn.Linear(6*k*8*8,64)\n",
    "        self.z_mean_fc=nn.Linear(16*6*k,z_dim)\n",
    "        self.z_std_fc=nn.Linear(16*6*k,z_dim)\n",
    "        self.ap=nn.AdaptiveAvgPool2d((4,4))\n",
    "        self.lrelu=nn.LeakyReLU()\n",
    "    def forward(self, xs):\n",
    "        x=self.lrelu(self.conv1(xs))\n",
    "        x=self.lrelu(self.conv2(x))\n",
    "        x=self.lrelu(self.conv3(x))\n",
    "        x=self.lrelu(self.conv4(x))\n",
    "        x=self.ap(x)\n",
    "        x=x.view(x.shape[0],-1)\n",
    "        z_loc=self.z_mean_fc(x)\n",
    "        z_scale=torch.exp(self.z_std_fc(x))\n",
    "        return z_loc,z_scale"
   ]
  },
  {
   "cell_type": "code",
   "execution_count": 8,
   "id": "cf435e8f-66c1-4eb8-b26d-0eea2076c86d",
   "metadata": {},
   "outputs": [],
   "source": [
    "class Decoder(nn.Module):\n",
    "    def __init__(self, z_dim=64,k=4):\n",
    "        super().__init__()\n",
    "        \n",
    "        self.deconv1=torch.nn.ConvTranspose2d(z_dim, 6*k, kernel_size=4, stride=2,padding=1)\n",
    "        self.deconv2=torch.nn.ConvTranspose2d(6*k, 4*k, kernel_size=4, stride=2,padding=1)\n",
    "        self.deconv3=torch.nn.ConvTranspose2d(4*k, 2*k, kernel_size=4, stride=2,padding=1)\n",
    "        self.deconv4=torch.nn.ConvTranspose2d(2*k, 2*k, kernel_size=4, stride=2,padding=1)\n",
    "        self.deconv5=torch.nn.ConvTranspose2d(2*k, 2*k, kernel_size=4, stride=2,padding=1)\n",
    "        self.deconv6=torch.nn.ConvTranspose2d(2*k, 2*k, kernel_size=4, stride=2,padding=1)\n",
    "        self.conv1=torch.nn.Conv2d(2*k,2,kernel_size=3,stride=1,padding=\"same\")\n",
    "\n",
    "        self.relu = nn.ReLU()\n",
    "        \n",
    "        self.lrelu=nn.LeakyReLU()\n",
    "\n",
    "        self.Sigmoid = nn.Sigmoid()\n",
    "    def forward(self, z):\n",
    "        z=z.unsqueeze(2).unsqueeze(3)\n",
    "        #print(z)\n",
    "        x = self.lrelu(self.deconv1(z))\n",
    "        x = self.lrelu(self.deconv2(x))\n",
    "        \n",
    "        x = self.lrelu(self.deconv3(x))\n",
    "        x = self.lrelu(self.deconv4(x))\n",
    "        x = self.lrelu(self.deconv5(x))\n",
    "        x = self.lrelu(self.deconv6(x))\n",
    "        #print(x)\n",
    "        x=self.conv1(x)\n",
    "        #print(x.shape)\n",
    "        recon_loc=x[:,0,...]\n",
    "        recon_var=torch.exp(x[:,1,...])\n",
    "        \n",
    "        \n",
    "        return recon_loc,recon_var\n",
    "        \n"
   ]
  },
  {
   "cell_type": "code",
   "execution_count": 9,
   "id": "b512bd02-129a-4096-9dac-b03c5108a74f",
   "metadata": {},
   "outputs": [],
   "source": [
    "class ConditionalAffineTransform(ConditionalTransformModule):\n",
    "    def __init__(self, context_nn, event_dim=0, **kwargs):\n",
    "        super().__init__(**kwargs)\n",
    "        self.event_dim = event_dim\n",
    "        self.context_nn = context_nn\n",
    "\n",
    "    def condition(self, context):\n",
    "        loc, log_scale = self.context_nn(context)\n",
    "        scale = torch.exp(log_scale)\n",
    "        ac = transforms.AffineTransform(loc, scale, event_dim=self.event_dim)\n",
    "        return ac"
   ]
  },
  {
   "cell_type": "code",
   "execution_count": 10,
   "id": "9096f1ef-777d-49eb-bae2-9db11cf27a37",
   "metadata": {},
   "outputs": [],
   "source": [
    "class MLP(nn.Module):\n",
    "    def __init__(self, input_size=1,z_dim=64,k=4):\n",
    "        super().__init__()\n",
    "        fc_1=nn.Linear(input_size,4)\n",
    "        fc_z_mean=nn.Linear(4,1)\n",
    "        fc_z_std=nn.Linear(4,1)\n",
    "        self.Sigmoid = nn.Sigmoid()\n",
    "        self.relu=nn.ReLU()\n",
    "    def forward(self,z,y):\n",
    "        x=self.relu(fc_1(y))\n",
    "        affine_1=fc_z_mean(x)\n",
    "        affine_2=fc_z_std(x)\n",
    "        return affine_1,affine_2\n",
    "class Estimator(nn.Module):\n",
    "    def __init__(self, input_size=64,z_dim=1,k=4):\n",
    "        super().__init__()\n",
    "        self.fc_1=nn.Linear(input_size,16)\n",
    "        self.fc_z_mean=nn.Linear(16,1)\n",
    "        self.fc_z_std=nn.Linear(16,1)\n",
    "        self.Sigmoid = nn.Sigmoid()\n",
    "        self.relu=nn.ReLU()\n",
    "    def forward(self,z):\n",
    "        x=self.relu(self.fc_1(z))\n",
    "        affine_1=self.fc_z_mean(x)\n",
    "        affine_2=torch.exp(self.fc_z_std(x))\n",
    "        return affine_1,affine_2"
   ]
  },
  {
   "cell_type": "code",
   "execution_count": 22,
   "id": "26a5ef30-a3f0-4b11-9581-72a13d9ce4b8",
   "metadata": {},
   "outputs": [],
   "source": [
    "class CVAE(nn.Module):\n",
    "    def __init__(self, z_dim=64):\n",
    "        super().__init__()\n",
    "        self.encoder = Encoder(z_dim,k=2)\n",
    "        self.encoder.apply(init_weights)\n",
    "        self.decoder = Decoder(z_dim+1,k=2)\n",
    "        self.decoder.apply(init_weights)\n",
    "\n",
    "        #self.prior_net.train()\n",
    "        #self.generation_net.train()\n",
    "        self.z_dim=z_dim\n",
    "        #self.recognition_net = Encoder(z_dim,k=4)\n",
    "        self.age_nn=MLP(input_size=1,z_dim=4)\n",
    "        #self.age_flow_components = ConditionalAffineTransform(context_nn=age_nn, event_dim=0)\n",
    "        #self.age_flow_transforms = [self.age_flow_components]\n",
    "        self.age_estimator=Estimator(input_size=64,z_dim=1)\n",
    "    #@pyro_method\n",
    "    #def pgm_model(self):\n",
    "\n",
    "        #return {'age': age_base_dist}\n",
    "        \n",
    "    def model(self, xs,age=None):\n",
    "            # register this pytorch module and all of its sub-modules with pyro\n",
    "            \n",
    "            pyro.module(\"decoder\",self.decoder)\n",
    "            with pyro.plate(\"data\",xs.shape[0]):\n",
    "                \n",
    "                #obs=pgm_model()\n",
    "                age_mean=xs.new_ones(torch.Size((xs.shape[0], 1)))*60.8\n",
    "                age_base_scale=xs.new_ones(torch.Size((xs.shape[0], 1)))*12.89\n",
    "                age_dist = dist.Normal(age_mean, age_base_scale).to_event(1)\n",
    "                age = pyro.sample('age', age_dist)\n",
    "                \n",
    "                \n",
    "                #slice_min=xs.new_ones(torch.Size((xs.shape[0], 1)))*20\n",
    "                #slice_max=xs.new_ones(torch.Size((xs.shape[0], 1)))*12.89\n",
    "                #slice_dist = dist.Uniform(slice_min, slice_max).to_event(1)\n",
    "                #slic = pyro.sample('slice', slice_dist)\n",
    "                \n",
    "                \n",
    "                z_loc = xs.new_zeros(torch.Size((xs.shape[0], self.z_dim)))\n",
    "                z_scale = z_scale = xs.new_ones(torch.Size((xs.shape[0], self.z_dim)))\n",
    "                z_base_dist = dist.Normal(z_loc, z_scale)\n",
    "                z = pyro.sample('latent',z_base_dist.to_event(1))\n",
    "                #ctx=torch.cat([z,age,slic],-1)               \n",
    "                ctx=torch.cat([z,age],-1)               \n",
    "\n",
    "                loc,var = self.decoder(ctx)\n",
    "                #print(var)\n",
    "                pyro.sample('obs', dist.Normal(loc,var).to_event(3), obs=xs)\n",
    "                #return loc\n",
    "    def guide(self, xs,age=None):\n",
    "            pyro.module(\"encoder\",self.encoder)\n",
    "            with pyro.plate(\"data\",xs.shape[0]):\n",
    "                z_loc, z_scale = self.encoder(xs)\n",
    "                pyro.sample('latent', dist.Normal(z_loc, z_scale).to_event(1))\n",
    "                age_loc,age_scale=self.age_estimator(z_loc)\n",
    "                pyro.sample('age', dist.Normal(age_loc,age_scale).to_event(1))\n",
    "    def reconstruct(self,xs,age):\n",
    "        z_loc, z_scale = self.encoder(xs)\n",
    "        # sample in latent space\n",
    "        z = dist.Normal(z_loc, z_scale).sample()\n",
    "        ctx=torch.cat([z,age],-1)\n",
    "        # decode the image (note we don't sample in image space)\n",
    "        loc,var=self.decoder(ctx)\n",
    "        return loc\n"
   ]
  },
  {
   "cell_type": "code",
   "execution_count": 12,
   "id": "c9c5638c-29db-48cf-97ba-4e8ea1d05d6a",
   "metadata": {},
   "outputs": [],
   "source": [
    "device=torch.cuda.current_device()\n",
    "pyro.clear_param_store()\n",
    "my_VAE=CVAE()\n",
    "my_VAE.to(device)\n",
    "#optimizer = pyro.optim.Adam({\"lr\": learning_rate})\n",
    "optimizer = pyro.optim.Adam({\"lr\": .001})\n",
    "svi = SVI(my_VAE.model, my_VAE.guide, optimizer, loss=Trace_ELBO())"
   ]
  },
  {
   "cell_type": "code",
   "execution_count": 13,
   "id": "c270a875-df53-4be1-ad6e-32c586b08573",
   "metadata": {},
   "outputs": [],
   "source": [
    "train_dataset= build_dataset(root_dir='/usr/local/faststorage/BraTS19_Data/',dataset_type=\"train\",mode=MODALS[\"T1\"])\n",
    "train_loader=VolumeLoader(dataset=train_dataset,root_dir='/usr/local/faststorage/BraTS19_Data/',dataset_type=\"train\",mode=MODALS[\"T1\"])\n",
    "train_pydl=torch.utils.data.DataLoader(train_loader,batch_size=1,num_workers=16)\n",
    "\n",
    "val_dataset= build_dataset(root_dir='/usr/local/faststorage/BraTS19_Data/',dataset_type=\"val\",mode=MODALS[\"T1\"])\n",
    "val_loader=VolumeLoader(dataset=val_dataset,root_dir='/usr/local/faststorage/BraTS19_Data/',dataset_type=\"val\",mode=MODALS[\"T1\"])\n",
    "val_pydl=torch.utils.data.DataLoader(val_loader,batch_size=4,num_workers=16)\n"
   ]
  },
  {
   "cell_type": "code",
   "execution_count": 14,
   "id": "c7ee5cd8-873d-4b1f-9061-ef46186d99aa",
   "metadata": {},
   "outputs": [],
   "source": [
    "def train(pydl):\n",
    "    loss=0.\n",
    "    for i,data in enumerate(train_pydl):\n",
    "        \n",
    "        img=data[\"MRI\"]\n",
    "        img=img[:,50:178:2,50:178:2,63]\n",
    "        img=img-torch.mean(img,axis=(1,2),keepdims=True)\n",
    "        img=img/torch.std(img,axis=(1,2),keepdims=True)\n",
    "        img=img.unsqueeze(1).type(torch.FloatTensor)\n",
    "        \n",
    "        loss+=svi.step(xs=img.cuda(),age=data[\"Age\"].type(torch.FloatTensor).view(-1,1).cuda())\n",
    "    return loss\n",
    "def precompute(pydl):\n",
    "    loss=0.\n",
    "    ages=[]\n",
    "    for i,data in enumerate(train_pydl):\n",
    "        ages.append(data[\"Age\"].numpy())\n",
    "    print(np.mean(np.asarray(ages)))\n",
    "    print(np.std(np.asarray(ages)))\n",
    "                    \n",
    "def evaluate(pydl):\n",
    "    loss=0.\n",
    "    for i,data in enumerate(train_pydl):\n",
    "        img=data[\"MRI\"]\n",
    "        img=img[:,50:178:2,50:178:2,63]\n",
    "        img=img-torch.mean(img,axis=(1,2),keepdims=True)\n",
    "        img=img/torch.std(img,axis=(1,2),keepdims=True)\n",
    "        img=img.unsqueeze(1).type(torch.FloatTensor)\n",
    "        loss = svi.evaluate_loss(xs=img.cuda(), age=data[\"Age\"].type(torch.FloatTensor).view(-1,1).cuda())\n",
    "    return loss"
   ]
  },
  {
   "cell_type": "code",
   "execution_count": 52,
   "id": "f42766a2-7c88-463e-847c-74311f5aeca6",
   "metadata": {},
   "outputs": [
    {
     "data": {
      "image/png": "[encoded data removed]",
      "text/plain": [
       "<Figure size 432x288 with 4 Axes>"
      ]
     },
     "metadata": {},
     "output_type": "display_data"
    }
   ],
   "source": [
    "my_VAE=torch.load(\"./best_model\")\n",
    "for i,data in enumerate(train_pydl):\n",
    "        img=data[\"MRI\"]\n",
    "        img=img[:,50:178:2,50:178:2,63]\n",
    "        img=img-torch.mean(img,axis=(1,2),keepdims=True)\n",
    "        img=img/torch.std(img,axis=(1,2),keepdims=True)\n",
    "        img=img.unsqueeze(1).type(torch.FloatTensor)\n",
    "        \n",
    "        pre_img=img.numpy()\n",
    "        recon = my_VAE.reconstruct(xs=img.cuda(), age=data[\"Age\"].type(torch.FloatTensor).view(-1,1).cuda())\n",
    "        fig,axarr=plt.subplots(1,4)\n",
    "        axarr[0].imshow(pre_img.squeeze(),cmap=\"gray\")\n",
    "        recon = my_VAE.reconstruct(xs=img.cuda(), age=data[\"Age\"].type(torch.FloatTensor).view(-1,1).cuda()-20)\n",
    "        axarr[1].imshow(recon.detach().cpu().numpy().squeeze(),cmap=\"gray\")\n",
    "        recon = my_VAE.reconstruct(xs=img.cuda(), age=data[\"Age\"].type(torch.FloatTensor).view(-1,1).cuda())\n",
    "        axarr[2].imshow(recon.detach().cpu().numpy().squeeze(),cmap=\"gray\")\n",
    "        recon = my_VAE.reconstruct(xs=img.cuda(), age=data[\"Age\"].type(torch.FloatTensor).view(-1,1).cuda()+20)\n",
    "        axarr[3].imshow(recon.detach().cpu().numpy().squeeze(),cmap=\"gray\")\n",
    "        for ax in axarr:\n",
    "            ax.set_xticks([])\n",
    "            ax.set_yticks([])\n",
    "        break\n",
    "        "
   ]
  },
  {
   "cell_type": "code",
   "execution_count": null,
   "id": "7cc63463-b18b-46d3-b41f-d22e76a03e86",
   "metadata": {},
   "outputs": [],
   "source": []
  },
  {
   "cell_type": "code",
   "execution_count": 16,
   "id": "72cea5ce-f6da-4dda-9443-9ecea60bafc8",
   "metadata": {},
   "outputs": [],
   "source": [
    "#plt.imshow(my_VAE.reconstruct(torch.Tensor(resha_slice),age=torch.Tensor([[50]]).view(1,1)).detach().numpy().squeeze())"
   ]
  },
  {
   "cell_type": "code",
   "execution_count": null,
   "id": "ce574474-4db4-4c7e-9a89-f2eff76e93e2",
   "metadata": {},
   "outputs": [],
   "source": []
  },
  {
   "cell_type": "code",
   "execution_count": null,
   "id": "9e5d8a52-fac9-46a5-a68b-964c5be483e1",
   "metadata": {},
   "outputs": [],
   "source": []
  },
  {
   "cell_type": "code",
   "execution_count": null,
   "id": "25cfb585-ed0f-4e48-9bf5-57ae7d9a1b83",
   "metadata": {},
   "outputs": [],
   "source": []
  },
  {
   "cell_type": "code",
   "execution_count": null,
   "id": "497bf9b0-64d6-496a-a767-f2d35b192aff",
   "metadata": {},
   "outputs": [],
   "source": []
  },
  {
   "cell_type": "code",
   "execution_count": null,
   "id": "0f5babd3-81e4-4e02-a0df-df4755e96229",
   "metadata": {},
   "outputs": [],
   "source": []
  },
  {
   "cell_type": "code",
   "execution_count": null,
   "id": "8dee962a-8abb-4544-8694-a661f57a9eae",
   "metadata": {},
   "outputs": [],
   "source": []
  },
  {
   "cell_type": "code",
   "execution_count": null,
   "id": "3b600e27-9512-4681-b529-7308981df766",
   "metadata": {},
   "outputs": [],
   "source": []
  }
 ],
 "metadata": {
  "kernelspec": {
   "display_name": "Python 3",
   "language": "python",
   "name": "python3"
  },
  "language_info": {
   "codemirror_mode": {
    "name": "ipython",
    "version": 3
   },
   "file_extension": ".py",
   "mimetype": "text/x-python",
   "name": "python",
   "nbconvert_exporter": "python",
   "pygments_lexer": "ipython3",
   "version": "3.6.9"
  }
 },
 "nbformat": 4,
 "nbformat_minor": 5
}
