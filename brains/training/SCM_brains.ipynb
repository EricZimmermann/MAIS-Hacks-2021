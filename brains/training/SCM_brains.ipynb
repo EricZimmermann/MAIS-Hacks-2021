{
 "cells": [
  {
   "cell_type": "code",
   "execution_count": 124,
   "id": "f042f017-1827-4760-8314-0aec855fbe01",
   "metadata": {},
   "outputs": [],
   "source": [
    "import numpy as np\n",
    "import lz4\n",
    "import nibabel\n",
    "import matplotlib.pyplot as plt\n",
    "import torch\n",
    "import torch.nn as nn\n",
    "import pyro\n",
    "import pyro.distributions as dist\n",
    "from pyro.infer import SVI, Trace_ELBO"
   ]
  },
  {
   "cell_type": "code",
   "execution_count": 522,
   "id": "109db419-2233-4102-ac35-1d90ce9e8093",
   "metadata": {},
   "outputs": [],
   "source": [
    "def init_weights(m):\n",
    "    if (type(m) == nn.Conv3d or\n",
    "        type(m) == nn.ConvTranspose2d or\n",
    "        type(m) == nn.Conv2d\n",
    "       or type(m)== nn.Linear):\n",
    "        nn.init.kaiming_normal_(m.weight,mode='fan_in',a=.01,nonlinearity=\"leaky_relu\")\n",
    "        nn.init.zeros_(m.bias)"
   ]
  },
  {
   "cell_type": "code",
   "execution_count": 523,
   "id": "41781f34-547c-42a9-9eb6-0581541270c6",
   "metadata": {},
   "outputs": [],
   "source": [
    "def crop(x,x1,x2,y1,y2,z1,z2):\n",
    "    return x[x1:x2,y1:y2,z1:z2]\n",
    "def downsample(x,factorx,factory=None,factorz=None):\n",
    "    if factory==None:\n",
    "        factory=factorx\n",
    "    if factorz==None:\n",
    "        factorz=factorx\n",
    "    return x[::factorx,::factory,::factorz]\n",
    "def brain_slice(x,slice_num):\n",
    "    return x[:,:,slice_num]\n",
    "def normalize(x,norm_type=None):\n",
    "    x-=np.min(x,keepdims=True)\n",
    "    x/=(np.max(x,keepdims=True)+.00001)\n",
    "    return x\n",
    "    \n",
    "def load_one_brain(path):\n",
    "    img=nibabel.load(path)\n",
    "    img=img.get_fdata()\n",
    "    \n",
    "    print(img.shape)\n",
    "    img=crop(img,50,178,50,178,12,140)\n",
    "    print(img.shape)\n",
    "    return img\n"
   ]
  },
  {
   "cell_type": "code",
   "execution_count": 524,
   "id": "618c2512-feb7-410b-b8d2-a8ba0671849a",
   "metadata": {},
   "outputs": [],
   "source": [
    "def view_slice(volume,slice_num):\n",
    "    plt.imshow(volume[:,:,slice_num],cmap=\"Greys\")"
   ]
  },
  {
   "cell_type": "code",
   "execution_count": 525,
   "id": "21ccfa76-eda6-4aa4-82c5-95f54ffbbeea",
   "metadata": {},
   "outputs": [
    {
     "name": "stdout",
     "output_type": "stream",
     "text": [
      "(240, 240, 155)\n",
      "(128, 128, 128)\n"
     ]
    }
   ],
   "source": [
    "basic_brain=load_one_brain(\"/usr/local/faststorage/BraTS19_Data/Training/Data/BraTS19_2013_3_1/BraTS19_2013_3_1_flair.nii.gz\")\n"
   ]
  },
  {
   "cell_type": "code",
   "execution_count": 526,
   "id": "14615c8a-2387-4687-8c52-2ef3ff5bc983",
   "metadata": {},
   "outputs": [
    {
     "data": {
      "image/png": "[encoded data removed]",
      "text/plain": [
       "<Figure size 432x288 with 1 Axes>"
      ]
     },
     "metadata": {
      "needs_background": "light"
     },
     "output_type": "display_data"
    }
   ],
   "source": [
    "view_slice(downsample(basic_brain,2),32)"
   ]
  },
  {
   "cell_type": "code",
   "execution_count": 590,
   "id": "91350b36-2a7c-4398-bc9b-4e0ae4ff8638",
   "metadata": {},
   "outputs": [],
   "source": [
    "class Encoder(nn.Module):\n",
    "    def __init__(self, z_dim=64,k=4):\n",
    "        super().__init__()\n",
    "        self.conv1=nn.Conv2d(1, k, kernel_size=3, stride=1)\n",
    "        self.conv2=nn.Conv2d(k, 2*k, kernel_size=3, stride=2,padding=1)\n",
    "        self.conv3=nn.Conv2d(2*k, 4*k, kernel_size=3, stride=2,padding=1)\n",
    "        self.conv4=nn.Conv2d(4*k, 6*k, kernel_size=3, stride=2,padding=1)\n",
    "        #self.fc1=nn.Linear(6*k*8*8,64)\n",
    "        self.z_mean_fc=nn.Linear(16*6*k,z_dim)\n",
    "        self.z_std_fc=nn.Linear(16*6*k,z_dim)\n",
    "        self.ap=nn.AdaptiveAvgPool2d((4,4))\n",
    "        self.lrelu=nn.LeakyReLU()\n",
    "    def forward(self, xs):\n",
    "        x=self.lrelu(self.conv1(xs))\n",
    "        x=self.lrelu(self.conv2(x))\n",
    "        x=self.lrelu(self.conv3(x))\n",
    "        x=self.lrelu(self.conv4(x))\n",
    "        x=self.ap(x)\n",
    "        x=x.view(x.shape[0],-1)\n",
    "        z_loc=self.z_mean_fc(x)\n",
    "        z_scale=torch.exp(self.z_std_fc(x))\n",
    "        return z_loc,z_scale"
   ]
  },
  {
   "cell_type": "code",
   "execution_count": 674,
   "id": "cf435e8f-66c1-4eb8-b26d-0eea2076c86d",
   "metadata": {},
   "outputs": [],
   "source": [
    "class Decoder(nn.Module):\n",
    "    def __init__(self, z_dim=64,k=4):\n",
    "        super().__init__()\n",
    "        \n",
    "        self.deconv1=torch.nn.ConvTranspose2d(z_dim, 6*k, kernel_size=4, stride=2,padding=1)\n",
    "        self.deconv2=torch.nn.ConvTranspose2d(6*k, 4*k, kernel_size=4, stride=2,padding=1)\n",
    "        self.deconv3=torch.nn.ConvTranspose2d(4*k, 2*k, kernel_size=4, stride=2,padding=1)\n",
    "        self.deconv4=torch.nn.ConvTranspose2d(2*k, 2*k, kernel_size=4, stride=2,padding=1)\n",
    "        self.deconv5=torch.nn.ConvTranspose2d(2*k, 2*k, kernel_size=4, stride=2,padding=1)\n",
    "        self.deconv6=torch.nn.ConvTranspose2d(2*k, 2*k, kernel_size=4, stride=2,padding=1)\n",
    "        self.conv1=torch.nn.Conv2d(2*k,2,kernel_size=3,stride=1,padding=\"same\")\n",
    "\n",
    "        self.relu = nn.ReLU()\n",
    "        \n",
    "        self.lrelu=nn.LeakyReLU()\n",
    "\n",
    "        self.Sigmoid = nn.Sigmoid()\n",
    "    def forward(self, z):\n",
    "        z=z.unsqueeze(2).unsqueeze(3)\n",
    "        #print(z)\n",
    "        x = self.lrelu(self.deconv1(z))\n",
    "        x = self.lrelu(self.deconv2(x))\n",
    "        \n",
    "        x = self.lrelu(self.deconv3(x))\n",
    "        x = self.lrelu(self.deconv4(x))\n",
    "        x = self.lrelu(self.deconv5(x))\n",
    "        x = self.lrelu(self.deconv6(x))\n",
    "        #print(x)\n",
    "        x=self.conv1(x)\n",
    "        #print(x.shape)\n",
    "        recon_loc=x[:,0,...]\n",
    "        recon_var=torch.exp(x[:,1,...])\n",
    "        \n",
    "        \n",
    "        return recon_loc,recon_var\n",
    "        \n"
   ]
  },
  {
   "cell_type": "code",
   "execution_count": null,
   "id": "9096f1ef-777d-49eb-bae2-9db11cf27a37",
   "metadata": {},
   "outputs": [],
   "source": [
    "class MLP(nn.Module):"
   ]
  },
  {
   "cell_type": "code",
   "execution_count": 679,
   "id": "26a5ef30-a3f0-4b11-9581-72a13d9ce4b8",
   "metadata": {},
   "outputs": [],
   "source": [
    "class CVAE(nn.Module):\n",
    "    def __init__(self, z_dim=64):\n",
    "        super().__init__()\n",
    "        self.encoder = Encoder(z_dim,k=2)\n",
    "        self.encoder.apply(init_weights)\n",
    "        self.decoder = Decoder(z_dim,k=2)\n",
    "        self.decoder.apply(init_weights)\n",
    "\n",
    "        #self.prior_net.train()\n",
    "        #self.generation_net.train()\n",
    "        self.z_dim=z_dim\n",
    "        #self.recognition_net = Encoder(z_dim,k=4)\n",
    "    def model(self, xs,age):\n",
    "            # register this pytorch module and all of its sub-modules with pyro\n",
    "            pyro.module(\"decoder\",self.decoder)\n",
    "            with pyro.plate(\"data\",xs.shape[0]):\n",
    "                z_loc = xs.new_zeros(torch.Size((xs.shape[0], self.z_dim)))\n",
    "                z_scale = xs.new_ones(torch.Size((xs.shape[0], self.z_dim)))\n",
    "                z = pyro.sample('latent', dist.Normal(z_loc, z_scale).to_event(1))\n",
    "\n",
    "                loc,var = self.decoder(z)\n",
    "                #print(var)\n",
    "                pyro.sample('obs', dist.Normal(loc,var).to_event(3), obs=xs)\n",
    "                #return loc\n",
    "    def guide(self, xs,age):\n",
    "            pyro.module(\"encoder\",self.encoder)\n",
    "            with pyro.plate(\"data\",xs.shape[0]):\n",
    "                z_loc, z_scale = self.encoder(xs)\n",
    "                pyro.sample('latent', dist.Normal(z_loc, z_scale).to_event(1))\n",
    "    def reconstruct(self,xs,age):\n",
    "        z_loc, z_scale = self.encoder(xs)\n",
    "        print(z_loc)\n",
    "        # sample in latent space\n",
    "        z = dist.Normal(z_loc, z_scale).sample()\n",
    "        print(z)\n",
    "        # decode the image (note we don't sample in image space)\n",
    "        loc,var=self.decoder(z)\n",
    "        return loc\n"
   ]
  },
  {
   "cell_type": "code",
   "execution_count": 680,
   "id": "c9c5638c-29db-48cf-97ba-4e8ea1d05d6a",
   "metadata": {},
   "outputs": [],
   "source": [
    "pyro.clear_param_store()\n",
    "my_VAE=CVAE()\n",
    "#cvae_net.to(device)\n",
    "#optimizer = pyro.optim.Adam({\"lr\": learning_rate})\n",
    "optimizer = pyro.optim.Adam({\"lr\": .001})\n",
    "svi = SVI(my_VAE.model, my_VAE.guide, optimizer, loss=Trace_ELBO())"
   ]
  },
  {
   "cell_type": "code",
   "execution_count": 681,
   "id": "f42766a2-7c88-463e-847c-74311f5aeca6",
   "metadata": {},
   "outputs": [
    {
     "name": "stdout",
     "output_type": "stream",
     "text": [
      "(128, 128, 128)\n",
      "(64, 64, 128)\n",
      "(64, 64)\n",
      "0.0\n",
      "0.99999\n",
      "[[0.         0.         0.         ... 0.         0.         0.        ]\n",
      " [0.         0.         0.         ... 0.         0.         0.        ]\n",
      " [0.         0.         0.         ... 0.         0.         0.        ]\n",
      " ...\n",
      " [0.         0.         0.         ... 0.7552372  0.74125133 0.70628664]\n",
      " [0.         0.         0.         ... 0.58391024 0.44055503 0.27272455]\n",
      " [0.         0.         0.         ... 0.39859741 0.28321395 0.11188699]]\n"
     ]
    },
    {
     "data": {
      "image/png": "[encoded data removed]",
      "text/plain": [
       "<Figure size 432x288 with 1 Axes>"
      ]
     },
     "metadata": {
      "needs_background": "light"
     },
     "output_type": "display_data"
    }
   ],
   "source": [
    "print(basic_brain.shape)\n",
    "basic_brain_rs=downsample(basic_brain,2,2,1)\n",
    "print(basic_brain_rs.shape)\n",
    "basic_slice=brain_slice(basic_brain_rs,63)\n",
    "print(basic_slice.shape)\n",
    "norm_slice=normalize(basic_slice)\n",
    "print(np.min(norm_slice))\n",
    "print(np.max(norm_slice))\n",
    "print(norm_slice)\n",
    "plt.imshow(norm_slice)\n",
    "resha_slice=np.reshape(norm_slice,(1,1,64,64))\n"
   ]
  },
  {
   "cell_type": "code",
   "execution_count": 688,
   "id": "7cc63463-b18b-46d3-b41f-d22e76a03e86",
   "metadata": {},
   "outputs": [
    {
     "name": "stdout",
     "output_type": "stream",
     "text": [
      "-5435.310618782043 -6509.197996711731\n"
     ]
    }
   ],
   "source": [
    "losses=[]\n",
    "for i in range(1000):\n",
    "    loss=svi.step(xs=torch.Tensor((resha_slice)*1))\n",
    "    losses.append(loss)\n",
    "losses=np.asarray(losses)\n",
    "print(np.mean(losses[0:10]),np.mean(losses[-10:]))"
   ]
  },
  {
   "cell_type": "code",
   "execution_count": 689,
   "id": "72cea5ce-f6da-4dda-9443-9ecea60bafc8",
   "metadata": {},
   "outputs": [
    {
     "name": "stdout",
     "output_type": "stream",
     "text": [
      "tensor([[-4.0641e-02,  4.2468e-01,  8.2240e-01,  2.5056e-01,  5.8134e-02,\n",
      "          2.2489e-01, -6.2658e-01,  1.1647e-01,  3.6898e-02,  1.3102e-01,\n",
      "          2.0736e-01, -1.1471e+00, -2.8329e-02, -2.8410e+00, -3.7214e-02,\n",
      "         -1.1375e+00, -1.7540e+00, -4.7045e-02, -1.2902e-01, -8.8104e-02,\n",
      "          6.8215e-01,  2.1996e-01,  9.4865e-01,  1.2725e+00,  2.0566e+00,\n",
      "          7.5293e-01,  4.3677e-01, -4.4000e-02, -1.7048e-01, -5.4946e-01,\n",
      "          4.7939e-01,  5.0299e-01, -3.6379e-02, -1.8398e-01, -3.8055e+00,\n",
      "          1.9771e+00, -4.2279e-02,  1.6459e-01, -1.2028e+00, -7.1870e-02,\n",
      "          4.6814e-01,  9.0640e-02, -1.4798e-01, -1.9256e-03, -6.8672e-02,\n",
      "         -1.6793e-01,  2.3021e-01, -2.2470e-01,  3.7202e-02,  1.0293e+00,\n",
      "         -1.5402e-01, -1.7652e-01, -1.7102e+00, -8.2607e-01, -1.4240e-01,\n",
      "         -4.2743e-02, -8.7963e-01, -9.8226e-02,  2.9159e-01,  8.5162e-01,\n",
      "          3.7010e-01,  5.9046e-01, -1.1445e+00,  1.7458e+00]],\n",
      "       grad_fn=<AddmmBackward>)\n",
      "tensor([[-1.2268e-02,  6.3596e-01,  8.9191e-01,  2.6998e-01,  2.9263e-02,\n",
      "          6.8667e-02, -6.9670e-01,  2.2861e-01,  3.0809e-01, -2.5784e-02,\n",
      "          1.0148e-01, -1.0582e+00,  6.1454e-02, -2.8862e+00,  8.5530e-02,\n",
      "         -1.1346e+00, -1.9122e+00, -1.0706e-01,  4.6401e-02, -4.1266e-01,\n",
      "          5.2587e-01,  4.3758e-01,  7.9186e-01,  1.2971e+00,  2.0286e+00,\n",
      "          1.0815e+00,  5.1274e-01,  8.5915e-04, -1.3525e-01, -4.7471e-01,\n",
      "          5.8134e-01,  4.3144e-01,  2.2165e-01,  1.2714e-02, -3.7900e+00,\n",
      "          1.9375e+00, -3.0949e-02,  4.3699e-01, -1.1575e+00, -5.1249e-02,\n",
      "          5.5152e-01,  2.3653e-01, -3.6544e-01, -2.0039e-01, -3.1306e-01,\n",
      "         -4.9545e-01,  7.9273e-02, -2.2920e-01,  3.5821e-02,  1.0415e+00,\n",
      "          6.5668e-02, -2.0118e-01, -1.7088e+00, -1.1059e+00, -3.1273e-01,\n",
      "         -8.7224e-02, -9.2015e-01, -2.0105e-02,  2.1525e-01,  9.6307e-01,\n",
      "          5.0420e-01,  6.2710e-01, -1.0686e+00,  1.8017e+00]])\n"
     ]
    },
    {
     "data": {
      "text/plain": [
       "<matplotlib.image.AxesImage at 0x7efb94acbf28>"
      ]
     },
     "execution_count": 689,
     "metadata": {},
     "output_type": "execute_result"
    },
    {
     "data": {
      "image/png": "[encoded data removed]",
      "text/plain": [
       "<Figure size 432x288 with 1 Axes>"
      ]
     },
     "metadata": {
      "needs_background": "light"
     },
     "output_type": "display_data"
    }
   ],
   "source": [
    "plt.imshow(my_VAE.reconstruct(torch.Tensor(resha_slice)).detach().numpy().squeeze())"
   ]
  },
  {
   "cell_type": "code",
   "execution_count": null,
   "id": "ce574474-4db4-4c7e-9a89-f2eff76e93e2",
   "metadata": {},
   "outputs": [],
   "source": []
  },
  {
   "cell_type": "code",
   "execution_count": null,
   "id": "9e5d8a52-fac9-46a5-a68b-964c5be483e1",
   "metadata": {},
   "outputs": [],
   "source": []
  }
 ],
 "metadata": {
  "kernelspec": {
   "display_name": "Python 3",
   "language": "python",
   "name": "python3"
  },
  "language_info": {
   "codemirror_mode": {
    "name": "ipython",
    "version": 3
   },
   "file_extension": ".py",
   "mimetype": "text/x-python",
   "name": "python",
   "nbconvert_exporter": "python",
   "pygments_lexer": "ipython3",
   "version": "3.6.9"
  }
 },
 "nbformat": 4,
 "nbformat_minor": 5
}
